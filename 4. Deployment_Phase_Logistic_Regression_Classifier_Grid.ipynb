{
 "cells": [
  {
   "cell_type": "code",
   "execution_count": 1,
   "metadata": {},
   "outputs": [],
   "source": [
    "import pickle"
   ]
  },
  {
   "cell_type": "code",
   "execution_count": 2,
   "metadata": {},
   "outputs": [],
   "source": [
    "filename=\"4.Finalized_LogisticRegression_Classifier.sav\""
   ]
  },
  {
   "cell_type": "code",
   "execution_count": 3,
   "metadata": {},
   "outputs": [],
   "source": [
    "loaded_module=pickle.load(open(\"4.Finalized_LogisticRegression_Classifier.sav\",'rb'))"
   ]
  },
  {
   "cell_type": "code",
   "execution_count": 4,
   "metadata": {},
   "outputs": [
    {
     "name": "stdout",
     "output_type": "stream",
     "text": [
      "age:2\n",
      "bp:76.4\n",
      "al:3\n",
      "su:0\n",
      "bgr:148\n",
      "bu:57\n",
      "sc:3\n",
      "sod:137\n",
      "pot:4.6\n",
      "hrmo:12.5\n",
      "pcv:38.86\n",
      "wc:8408\n",
      "rc:4.70\n",
      "sg_b:0\n",
      "sg_c:1\n",
      "sg_d:0\n",
      "sg_e:0\n",
      "rbc_normal:1\n",
      "pc_normal:0\n",
      "pcc_present:0\n",
      "ba_present:0\n",
      "htn_yes:0\n",
      "dm_yes:0\n",
      "cad_yes:0\n",
      "appet_yes:1\n",
      "pe_yes:1\n",
      "ane_yes:0\n"
     ]
    }
   ],
   "source": [
    "age=float(input(\"age:\"))\n",
    "bp=float(input(\"bp:\"))\n",
    "al=float(input(\"al:\"))\n",
    "su=float(input(\"su:\"))\n",
    "bgr=float(input(\"bgr:\"))\n",
    "bu=float(input(\"bu:\"))\n",
    "sc=float(input(\"sc:\"))\n",
    "sod=float(input(\"sod:\"))\n",
    "pot=float(input(\"pot:\"))\n",
    "hrmo=float(input(\"hrmo:\"))\n",
    "pcv=float(input(\"pcv:\"))\n",
    "wc=float(input(\"wc:\"))\n",
    "rc=float(input(\"rc:\"))\n",
    "sg_b=float(input(\"sg_b:\"))\n",
    "sg_c=float(input(\"sg_c:\"))\n",
    "sg_d=float(input(\"sg_d:\"))\n",
    "sg_e=float(input(\"sg_e:\"))\n",
    "rbc_normal=float(input(\"rbc_normal:\"))\n",
    "pc_normal=float(input(\"pc_normal:\"))\n",
    "pcc_present=float(input(\"pcc_present:\"))\n",
    "ba_present=float(input(\"ba_present:\"))\n",
    "htn_yes=float(input(\"htn_yes:\"))\n",
    "dm_yes=float(input(\"dm_yes:\"))\n",
    "cad_yes=float(input(\"cad_yes:\"))\n",
    "appet_yes=float(input(\"appet_yes:\"))\n",
    "pe_yes=float(input(\"pe_yes:\"))\n",
    "ane_yes=float(input(\"ane_yes:\"))"
   ]
  },
  {
   "cell_type": "code",
   "execution_count": 5,
   "metadata": {},
   "outputs": [
    {
     "name": "stdout",
     "output_type": "stream",
     "text": [
      "Future_Predict=[0]\n"
     ]
    }
   ],
   "source": [
    "Future_Predict=loaded_module.predict([[age, bp, al, su, bgr, bu, sc, sod, pot, hrmo, pcv, wc, rc, sg_b, sg_c, sg_d, sg_e, rbc_normal, pc_normal, pcc_present, ba_present, htn_yes, dm_yes, cad_yes, appet_yes, pe_yes, ane_yes]])\n",
    "print(\"Future_Predict={}\".format(Future_Predict))"
   ]
  },
  {
   "cell_type": "code",
   "execution_count": null,
   "metadata": {},
   "outputs": [],
   "source": []
  }
 ],
 "metadata": {
  "kernelspec": {
   "display_name": "Python 3",
   "language": "python",
   "name": "python3"
  },
  "language_info": {
   "codemirror_mode": {
    "name": "ipython",
    "version": 3
   },
   "file_extension": ".py",
   "mimetype": "text/x-python",
   "name": "python",
   "nbconvert_exporter": "python",
   "pygments_lexer": "ipython3",
   "version": "3.7.4"
  }
 },
 "nbformat": 4,
 "nbformat_minor": 2
}
